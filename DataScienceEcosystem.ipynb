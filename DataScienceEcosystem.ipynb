{
 "cells": [
  {
   "cell_type": "markdown",
   "id": "babd4665",
   "metadata": {},
   "source": [
    "#Data Science Tools and Ecosystem"
   ]
  },
  {
   "cell_type": "markdown",
   "id": "9f82d9dc",
   "metadata": {},
   "source": [
    "In this notebook, Data Science Tools and Ecosystem are summarized."
   ]
  },
  {
   "cell_type": "markdown",
   "id": "4d1c0345",
   "metadata": {},
   "source": [
    "Some of the popular languages that Data Scientists use are:\n",
    "    1. Python\n",
    "    2. R\n",
    "    3. R studio\n",
    "    4. SQL"
   ]
  },
  {
   "cell_type": "markdown",
   "id": "cc9b1862",
   "metadata": {},
   "source": [
    " Some of the commonly used libraries used by Data Scientists include:\n",
    "    1. Pandas\n",
    "    2. Numpy\n",
    "    3. Scipy\n",
    "    4. Matplotlib\n",
    "    5. Tensor Flow\n",
    "    6. Pytorch\n",
    "    7. Keras\n",
    "    8. Scikit learn"
   ]
  },
  {
   "cell_type": "markdown",
   "id": "8de76293",
   "metadata": {},
   "source": []
  },
  {
   "cell_type": "markdown",
   "id": "f99e0331",
   "metadata": {},
   "source": []
  },
  {
   "cell_type": "markdown",
   "id": "5f2e35ce",
   "metadata": {},
   "source": [
    "Data science tools:\n",
    "1. R studio\n",
    "2. Apache spark\n",
    "3. TensorFlow"
   ]
  },
  {
   "cell_type": "markdown",
   "id": "d1029b21",
   "metadata": {},
   "source": [
    "###Below are a few examples of evaluating arithmetic expressions in Python."
   ]
  },
  {
   "cell_type": "code",
   "execution_count": 2,
   "id": "d9147081",
   "metadata": {},
   "outputs": [
    {
     "data": {
      "text/plain": [
       "17"
      ]
     },
     "execution_count": 2,
     "metadata": {},
     "output_type": "execute_result"
    }
   ],
   "source": [
    "#This a simple arithmetic expression to mutiply then add integers\n",
    "(3*4)+5"
   ]
  },
  {
   "cell_type": "code",
   "execution_count": 3,
   "id": "6adf0cb6",
   "metadata": {},
   "outputs": [
    {
     "data": {
      "text/plain": [
       "3.3333333333333335"
      ]
     },
     "execution_count": 3,
     "metadata": {},
     "output_type": "execute_result"
    }
   ],
   "source": [
    "# This will convert 200 minutes to hours by diving by 60\n",
    "200/60\n"
   ]
  },
  {
   "cell_type": "markdown",
   "id": "0e2891b6",
   "metadata": {},
   "source": [
    "**Objectives:\n",
    "unordered list:\n",
    "List popular languages for Data Science\n",
    "- Python\n",
    "- R\n",
    "- R studio\n",
    "- SQL\n",
    "\n"
   ]
  },
  {
   "cell_type": "markdown",
   "id": "13012dbe",
   "metadata": {},
   "source": [
    "##Author\n",
    "mudemreddy"
   ]
  },
  {
   "cell_type": "markdown",
   "id": "74b3088b",
   "metadata": {},
   "source": []
  },
  {
   "cell_type": "code",
   "execution_count": null,
   "id": "080dd9f7",
   "metadata": {},
   "outputs": [],
   "source": []
  }
 ],
 "metadata": {
  "kernelspec": {
   "display_name": "Python 3 (ipykernel)",
   "language": "python",
   "name": "python3"
  },
  "language_info": {
   "codemirror_mode": {
    "name": "ipython",
    "version": 3
   },
   "file_extension": ".py",
   "mimetype": "text/x-python",
   "name": "python",
   "nbconvert_exporter": "python",
   "pygments_lexer": "ipython3",
   "version": "3.9.12"
  }
 },
 "nbformat": 4,
 "nbformat_minor": 5
}
